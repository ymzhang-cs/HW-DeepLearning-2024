{
 "cells": [
  {
   "cell_type": "code",
   "execution_count": 22,
   "id": "initial_id",
   "metadata": {
    "collapsed": true,
    "jupyter": {
     "outputs_hidden": true
    },
    "ExecuteTime": {
     "end_time": "2024-09-01T07:06:34.246189100Z",
     "start_time": "2024-09-01T07:06:34.232662900Z"
    }
   },
   "outputs": [],
   "source": [
    "import torch\n",
    "import torch.nn as nn\n",
    "import numpy as np\n",
    "import torchvision\n",
    "import torchvision.transforms as transforms\n",
    "import matplotlib.pyplot as plt\n",
    "\n",
    "from torch.utils.data import Dataset, DataLoader"
   ]
  },
  {
   "cell_type": "code",
   "execution_count": 11,
   "id": "967ca14fae63c90e",
   "metadata": {
    "collapsed": false,
    "ExecuteTime": {
     "end_time": "2024-09-01T07:04:22.470045600Z",
     "start_time": "2024-09-01T07:04:22.454328400Z"
    }
   },
   "outputs": [],
   "source": [
    "def get_regression_data(n_train=7000, n_test=3000, n_dim=500, seed=114514):\n",
    "    # Set random seed\n",
    "    torch.manual_seed(seed)\n",
    "    np.random.seed(seed)\n",
    "    \n",
    "    # Generate random data\n",
    "    X_train = np.random.randn(n_train, n_dim)\n",
    "    X_test = np.random.randn(n_test, n_dim)\n",
    "    \n",
    "    # Generate epsilon noise\n",
    "    epsilon_train = np.random.randn(n_train) * 0.01\n",
    "    epsilon_test = np.random.randn(n_test) * 0.01\n",
    "    \n",
    "    # Calculate y_train and y_test\n",
    "    y_train = 0.028 + np.sum(0.0056 * X_train, axis=1) + epsilon_train\n",
    "    y_test = 0.028 + np.sum(0.0056 * X_test, axis=1) + epsilon_test\n",
    "    \n",
    "    return X_train, y_train, X_test, y_test"
   ]
  },
  {
   "cell_type": "code",
   "execution_count": 43,
   "outputs": [],
   "source": [
    "def get_classification_data():\n",
    "    n_samples = 10000\n",
    "    n_train = 7000\n",
    "    n_test = 3000\n",
    "    n_features = 200\n",
    "    mu = 5.0\n",
    "    sigma = 1.0\n",
    "    seed = 114514\n",
    "    \n",
    "    # Set random seed\n",
    "    torch.manual_seed(seed)\n",
    "    np.random.seed(seed)\n",
    "    \n",
    "    # Generate random data\n",
    "    X1 = np.random.normal(mu, sigma, (n_samples, n_features))\n",
    "    X2 = np.random.normal(-mu, sigma, (n_samples, n_features))\n",
    "    y1 = np.zeros(n_samples)\n",
    "    y2 = np.ones(n_samples)\n",
    "    \n",
    "    # Split data into train and test\n",
    "    X1_train, X1_test = X1[:n_train], X1[n_train:]\n",
    "    X2_train, X2_test = X2[:n_train], X2[n_train:]\n",
    "    \n",
    "    y1_train, y1_test = y1[:n_train], y1[n_train:]\n",
    "    y2_train, y2_test = y2[:n_train], y2[n_train:]\n",
    "\n",
    "    X_train = np.concatenate((X1_train, X2_train), axis=0)\n",
    "    X_test = np.concatenate((X1_test, X2_test), axis=0)\n",
    "    \n",
    "    y_train = np.concatenate((y1_train, y2_train), axis=0)\n",
    "    y_test = np.concatenate((y1_test, y2_test), axis=0)\n",
    "    \n",
    "    return X_train, y_train, X_test, y_test"
   ],
   "metadata": {
    "collapsed": false,
    "ExecuteTime": {
     "end_time": "2024-09-01T07:35:10.619502300Z",
     "start_time": "2024-09-01T07:35:10.611308600Z"
    }
   },
   "id": "26f684d1c710dc0"
  },
  {
   "cell_type": "code",
   "execution_count": 13,
   "outputs": [],
   "source": [
    "def get_MNIST_data():\n",
    "    train_data = torchvision.datasets.MNIST(root='./Datasets/MNIST', transform=transforms.ToTensor(), train=True, download=True)\n",
    "    test_data = torchvision.datasets.MNIST(root='./Datasets/MNIST', transform=transforms.ToTensor(), train=False, download=True)\n",
    "    \n",
    "    return train_data, test_data"
   ],
   "metadata": {
    "collapsed": false,
    "ExecuteTime": {
     "end_time": "2024-09-01T07:04:23.218088100Z",
     "start_time": "2024-09-01T07:04:23.202366400Z"
    }
   },
   "id": "b592426874c64d76"
  },
  {
   "cell_type": "code",
   "execution_count": 38,
   "outputs": [],
   "source": [
    "def draw_loss(train_loss, test_loss):\n",
    "    x = np.linspace(0, len(train_loss), len(train_loss))\n",
    "    plt.plot(x, train_loss, label=\"Train Loss\", linewidth=1.5)\n",
    "    plt.plot(x, test_loss, label=\"Test Loss\", linewidth=1.5)\n",
    "    plt.xlabel(\"Epoch\")\n",
    "    plt.ylabel(\"Loss\")\n",
    "    plt.legend()\n",
    "    plt.show()"
   ],
   "metadata": {
    "collapsed": false,
    "ExecuteTime": {
     "end_time": "2024-09-01T07:17:35.685724700Z",
     "start_time": "2024-09-01T07:17:35.657168600Z"
    }
   },
   "id": "e2381eabadec3dfe"
  },
  {
   "cell_type": "markdown",
   "source": [
    "## 任务1：手动实现前馈神经网络解决上述回归、二分类、多分类任务\n",
    "\n",
    "从训练时间、预测精度、Loss变化等角度分析实验结果（最好使用图表展示）"
   ],
   "metadata": {
    "collapsed": false
   },
   "id": "9709c7c384f0fcc4"
  },
  {
   "cell_type": "code",
   "execution_count": 41,
   "outputs": [],
   "source": [
    "class MyDataset(Dataset):\n",
    "    def __init__(self, X, y):\n",
    "        self.X = torch.tensor(X, dtype=torch.float32)\n",
    "        self.y = torch.tensor(y, dtype=torch.float32)\n",
    "\n",
    "    def __len__(self):\n",
    "        return len(self.y)\n",
    "\n",
    "    def __getitem__(self, idx):\n",
    "        return self.X[idx], self.y[idx]"
   ],
   "metadata": {
    "collapsed": false,
    "ExecuteTime": {
     "end_time": "2024-09-01T07:32:06.566572600Z",
     "start_time": "2024-09-01T07:32:06.552380300Z"
    }
   },
   "id": "d9f47109416aced"
  },
  {
   "cell_type": "code",
   "execution_count": null,
   "outputs": [],
   "source": [
    "# 定义MSE Loss\n",
    "def my_mse_loss(y_hat, y):\n",
    "    return ((y_hat - y.view(y_hat.size())) ** 2).mean()"
   ],
   "metadata": {
    "collapsed": false
   },
   "id": "65bd3e115c99890b"
  },
  {
   "cell_type": "code",
   "execution_count": 63,
   "outputs": [],
   "source": [
    "# 定义Cross-Entropy\n",
    "def my_cross_entropy_loss(y_hat, labels):\n",
    "    def log_softmax(y_hat):\n",
    "        max_v = torch.max(y_hat, dim=1, keepdim=True).values\n",
    "        return y_hat - max_v - torch.log(torch.exp(y_hat - max_v).sum(dim=1, keepdim=True))\n",
    "    return (-log_softmax(y_hat))[range(len(y_hat)), labels.long()].mean()"
   ],
   "metadata": {
    "collapsed": false,
    "ExecuteTime": {
     "end_time": "2024-09-01T07:45:09.269917700Z",
     "start_time": "2024-09-01T07:45:09.256328600Z"
    }
   },
   "id": "7b71ecf8bc08e99e"
  },
  {
   "cell_type": "code",
   "execution_count": 49,
   "outputs": [],
   "source": [
    "def evaluate_accuracy(data_iter, model, loss_func):\n",
    "    acc_sum, test_1_sum, n, c = 0.0, 0.0, 0, 0\n",
    "    for X, y in data_iter:\n",
    "        result = model.forward(X)\n",
    "        acc_sum += (result.argmax(dim=1) == y).float().sum().item()\n",
    "        test_1_sum += loss_func(result, y).item()\n",
    "        n += y.shape[0]\n",
    "        c += 1\n",
    "    return acc_sum / n, test_1_sum / c"
   ],
   "metadata": {
    "collapsed": false,
    "ExecuteTime": {
     "end_time": "2024-09-01T07:35:36.873300700Z",
     "start_time": "2024-09-01T07:35:36.857341800Z"
    }
   },
   "id": "3d5aedda31c37656"
  },
  {
   "cell_type": "markdown",
   "source": [
    "一、回归任务"
   ],
   "metadata": {
    "collapsed": false
   },
   "id": "f9d114511cbfde95"
  },
  {
   "cell_type": "code",
   "execution_count": 23,
   "outputs": [],
   "source": [
    "# 准备数据\n",
    "X_train, y_train, X_test, y_test = get_regression_data()\n",
    "batch_size = 256\n",
    "\n",
    "class RegressionDataset(Dataset):\n",
    "    def __init__(self, X, y):\n",
    "        self.X = torch.tensor(X, dtype=torch.float32)\n",
    "        self.y = torch.tensor(y, dtype=torch.float32)\n",
    "\n",
    "    def __len__(self):\n",
    "        return len(self.y)\n",
    "\n",
    "    def __getitem__(self, idx):\n",
    "        return self.X[idx], self.y[idx]\n",
    "\n",
    "# Create custom datasets\n",
    "train_dataset = RegressionDataset(X_train, y_train)\n",
    "test_dataset = RegressionDataset(X_test, y_test)\n",
    "\n",
    "# Create data loaders\n",
    "train_iter = DataLoader(train_dataset, batch_size=batch_size, shuffle=True, num_workers=0)\n",
    "test_iter = DataLoader(test_dataset, batch_size=batch_size, shuffle=False, num_workers=0)"
   ],
   "metadata": {
    "collapsed": false,
    "ExecuteTime": {
     "end_time": "2024-09-01T07:06:37.636744700Z",
     "start_time": "2024-09-01T07:06:37.557134400Z"
    }
   },
   "id": "47638a8437a56851"
  },
  {
   "cell_type": "code",
   "execution_count": 35,
   "outputs": [],
   "source": [
    "# 定义模型\n",
    "class Net():\n",
    "    def __init__(self):\n",
    "        # 定义并初始化模型参数\n",
    "        num_inputs, num_outputs, num_hiddens = 500, 1, 256\n",
    "        W1 = torch.tensor(np.random.normal(0, 0.01, (num_hiddens, num_inputs)), dtype=torch.float)\n",
    "        b1 = torch.zeros(num_hiddens, dtype=torch.float)\n",
    "        W2 = torch.tensor(np.random.normal(0, 0.01, (num_outputs, num_hiddens)), dtype=torch.float)\n",
    "        b2 = torch.zeros(num_outputs, dtype=torch.float)\n",
    "        # 告知PyTorch框架，上述四个变量需要求梯度\n",
    "        self.params = [W1, b1, W2, b2]\n",
    "        for param in self.params:\n",
    "            param.requires_grad = True\n",
    "        \n",
    "        # 定义模型结构\n",
    "        self.input_layer = lambda x: x.view(x.shape[0], -1)\n",
    "        self.hidden_layer = lambda x: self.my_ReLU(torch.matmul(x, W1.t()) + b1)\n",
    "        self.output_layer = lambda x: torch.matmul(x, W2.t()) + b2\n",
    "    \n",
    "    @staticmethod\n",
    "    def my_ReLU(x):\n",
    "        # 定义激活函数\n",
    "        return torch.max(input=x, other=torch.tensor(0.0))\n",
    "    \n",
    "    def forward(self, x):\n",
    "        # 定义模型前向传播过程\n",
    "        flatten_input = self.input_layer(x)\n",
    "        hidden_output = self.hidden_layer(flatten_input)\n",
    "        final_output = self.output_layer(hidden_output)\n",
    "        return final_output"
   ],
   "metadata": {
    "collapsed": false,
    "ExecuteTime": {
     "end_time": "2024-09-01T07:16:45.584609300Z",
     "start_time": "2024-09-01T07:16:45.568862900Z"
    }
   },
   "id": "a4181bd628caa5ff"
  },
  {
   "cell_type": "code",
   "execution_count": 19,
   "outputs": [],
   "source": [
    "# 定义优化算法\n",
    "def SGD(params, lr):\n",
    "    for param in params:\n",
    "        param.data -= lr * param.grad"
   ],
   "metadata": {
    "collapsed": false,
    "ExecuteTime": {
     "end_time": "2024-09-01T07:04:26.661731600Z",
     "start_time": "2024-09-01T07:04:26.644232300Z"
    }
   },
   "id": "7d745c98f5b85676"
  },
  {
   "cell_type": "code",
   "execution_count": 36,
   "outputs": [],
   "source": [
    "# 定义训练函数\n",
    "def train(net, train_iter, loss_func, num_epochs, lr=None, optimizer=None):\n",
    "    train_loss_list = []\n",
    "    test_loss_list = []\n",
    "    for epoch in range(num_epochs):\n",
    "        train_1_sum, train_acc_sum, n, c = 0.0, 0.0, 0, 0\n",
    "        for X, y in train_iter:\n",
    "            y_hat = net.forward(X)\n",
    "            loss = loss_func(y_hat, y)\n",
    "            loss.backward()\n",
    "            optimizer(net.params, lr)\n",
    "            # 梯度清零\n",
    "            # optimizer.zero_grad()\n",
    "            # 考虑到第一次进入训练循环，模型参数还没有梯度，所以把梯度清零放在最后\n",
    "            for param in net.params:\n",
    "                param.grad.data.zero_()\n",
    "            train_1_sum += loss.item()\n",
    "            # train_acc_sum += (y_hat.argmax(dim=1) == y).sum().item()\n",
    "            n += y.shape[0]\n",
    "            c += 1\n",
    "        test_acc, test_loss = evaluate_accuracy(test_iter, net, loss_func)\n",
    "        train_loss_list.append(train_1_sum / c)\n",
    "        test_loss_list.append(test_loss)\n",
    "        # Accuracy removed for regression\n",
    "        print('epoch %d, train loss %.4f, test loss %.4f' % (epoch + 1, train_1_sum / c, test_loss))\n",
    "    return train_loss_list, test_loss_list"
   ],
   "metadata": {
    "collapsed": false,
    "ExecuteTime": {
     "end_time": "2024-09-01T07:16:48.855422900Z",
     "start_time": "2024-09-01T07:16:48.849707100Z"
    }
   },
   "id": "af3ac7da9339201"
  },
  {
   "cell_type": "code",
   "execution_count": 40,
   "outputs": [
    {
     "name": "stdout",
     "output_type": "stream",
     "text": [
      "epoch 1, train loss 0.0168, test loss 0.0163\n",
      "epoch 2, train loss 0.0161, test loss 0.0160\n",
      "epoch 3, train loss 0.0159, test loss 0.0158\n",
      "epoch 4, train loss 0.0156, test loss 0.0156\n",
      "epoch 5, train loss 0.0154, test loss 0.0154\n",
      "epoch 6, train loss 0.0152, test loss 0.0152\n",
      "epoch 7, train loss 0.0149, test loss 0.0151\n",
      "epoch 8, train loss 0.0148, test loss 0.0149\n",
      "epoch 9, train loss 0.0145, test loss 0.0147\n",
      "epoch 10, train loss 0.0145, test loss 0.0145\n",
      "epoch 11, train loss 0.0142, test loss 0.0143\n",
      "epoch 12, train loss 0.0139, test loss 0.0142\n",
      "epoch 13, train loss 0.0138, test loss 0.0140\n",
      "epoch 14, train loss 0.0136, test loss 0.0138\n",
      "epoch 15, train loss 0.0134, test loss 0.0136\n",
      "epoch 16, train loss 0.0132, test loss 0.0134\n",
      "epoch 17, train loss 0.0130, test loss 0.0133\n",
      "epoch 18, train loss 0.0128, test loss 0.0131\n",
      "epoch 19, train loss 0.0125, test loss 0.0129\n",
      "epoch 20, train loss 0.0123, test loss 0.0127\n",
      "epoch 21, train loss 0.0121, test loss 0.0125\n",
      "epoch 22, train loss 0.0119, test loss 0.0123\n",
      "epoch 23, train loss 0.0116, test loss 0.0121\n",
      "epoch 24, train loss 0.0114, test loss 0.0118\n",
      "epoch 25, train loss 0.0112, test loss 0.0116\n",
      "epoch 26, train loss 0.0110, test loss 0.0114\n",
      "epoch 27, train loss 0.0107, test loss 0.0112\n",
      "epoch 28, train loss 0.0105, test loss 0.0109\n",
      "epoch 29, train loss 0.0102, test loss 0.0107\n",
      "epoch 30, train loss 0.0100, test loss 0.0104\n",
      "epoch 31, train loss 0.0096, test loss 0.0102\n",
      "epoch 32, train loss 0.0094, test loss 0.0099\n",
      "epoch 33, train loss 0.0091, test loss 0.0097\n",
      "epoch 34, train loss 0.0088, test loss 0.0094\n",
      "epoch 35, train loss 0.0087, test loss 0.0092\n",
      "epoch 36, train loss 0.0083, test loss 0.0089\n",
      "epoch 37, train loss 0.0080, test loss 0.0087\n",
      "epoch 38, train loss 0.0077, test loss 0.0084\n",
      "epoch 39, train loss 0.0074, test loss 0.0081\n",
      "epoch 40, train loss 0.0072, test loss 0.0079\n",
      "epoch 41, train loss 0.0069, test loss 0.0076\n",
      "epoch 42, train loss 0.0067, test loss 0.0074\n",
      "epoch 43, train loss 0.0064, test loss 0.0071\n",
      "epoch 44, train loss 0.0062, test loss 0.0069\n",
      "epoch 45, train loss 0.0059, test loss 0.0066\n",
      "epoch 46, train loss 0.0057, test loss 0.0064\n",
      "epoch 47, train loss 0.0054, test loss 0.0062\n",
      "epoch 48, train loss 0.0052, test loss 0.0059\n",
      "epoch 49, train loss 0.0049, test loss 0.0057\n",
      "epoch 50, train loss 0.0048, test loss 0.0055\n",
      "epoch 51, train loss 0.0045, test loss 0.0053\n",
      "epoch 52, train loss 0.0043, test loss 0.0051\n",
      "epoch 53, train loss 0.0041, test loss 0.0049\n",
      "epoch 54, train loss 0.0039, test loss 0.0047\n",
      "epoch 55, train loss 0.0037, test loss 0.0045\n",
      "epoch 56, train loss 0.0036, test loss 0.0043\n",
      "epoch 57, train loss 0.0034, test loss 0.0042\n",
      "epoch 58, train loss 0.0032, test loss 0.0040\n",
      "epoch 59, train loss 0.0031, test loss 0.0039\n",
      "epoch 60, train loss 0.0030, test loss 0.0037\n",
      "epoch 61, train loss 0.0028, test loss 0.0036\n",
      "epoch 62, train loss 0.0027, test loss 0.0035\n",
      "epoch 63, train loss 0.0026, test loss 0.0033\n",
      "epoch 64, train loss 0.0025, test loss 0.0032\n",
      "epoch 65, train loss 0.0024, test loss 0.0031\n",
      "epoch 66, train loss 0.0023, test loss 0.0030\n",
      "epoch 67, train loss 0.0022, test loss 0.0029\n",
      "epoch 68, train loss 0.0021, test loss 0.0028\n",
      "epoch 69, train loss 0.0020, test loss 0.0027\n",
      "epoch 70, train loss 0.0019, test loss 0.0026\n",
      "epoch 71, train loss 0.0018, test loss 0.0025\n",
      "epoch 72, train loss 0.0018, test loss 0.0025\n",
      "epoch 73, train loss 0.0017, test loss 0.0024\n",
      "epoch 74, train loss 0.0017, test loss 0.0023\n",
      "epoch 75, train loss 0.0016, test loss 0.0023\n",
      "epoch 76, train loss 0.0016, test loss 0.0022\n",
      "epoch 77, train loss 0.0015, test loss 0.0022\n",
      "epoch 78, train loss 0.0015, test loss 0.0021\n",
      "epoch 79, train loss 0.0014, test loss 0.0021\n",
      "epoch 80, train loss 0.0014, test loss 0.0020\n",
      "epoch 81, train loss 0.0014, test loss 0.0020\n",
      "epoch 82, train loss 0.0013, test loss 0.0019\n",
      "epoch 83, train loss 0.0013, test loss 0.0019\n",
      "epoch 84, train loss 0.0012, test loss 0.0019\n",
      "epoch 85, train loss 0.0012, test loss 0.0018\n",
      "epoch 86, train loss 0.0012, test loss 0.0018\n",
      "epoch 87, train loss 0.0012, test loss 0.0018\n",
      "epoch 88, train loss 0.0012, test loss 0.0017\n",
      "epoch 89, train loss 0.0011, test loss 0.0017\n",
      "epoch 90, train loss 0.0011, test loss 0.0017\n",
      "epoch 91, train loss 0.0011, test loss 0.0017\n",
      "epoch 92, train loss 0.0011, test loss 0.0016\n",
      "epoch 93, train loss 0.0011, test loss 0.0016\n",
      "epoch 94, train loss 0.0010, test loss 0.0016\n",
      "epoch 95, train loss 0.0010, test loss 0.0016\n",
      "epoch 96, train loss 0.0010, test loss 0.0016\n",
      "epoch 97, train loss 0.0010, test loss 0.0015\n",
      "epoch 98, train loss 0.0010, test loss 0.0015\n",
      "epoch 99, train loss 0.0010, test loss 0.0015\n",
      "epoch 100, train loss 0.0009, test loss 0.0015\n"
     ]
    },
    {
     "data": {
      "text/plain": "<Figure size 640x480 with 1 Axes>",
      "image/png": "[encoded data removed]"
     },
     "metadata": {},
     "output_type": "display_data"
    }
   ],
   "source": [
    "# 训练模型\n",
    "## 初始化模型\n",
    "net = Net()\n",
    "## 设置训练轮数\n",
    "num_epochs = 100\n",
    "## 设置学习率\n",
    "lr = 0.01\n",
    "## 指定优化器为自定义的随机梯度下降\n",
    "optimizer = SGD\n",
    "## 初始化损失函数\n",
    "loss = my_mse_loss\n",
    "\n",
    "# 开始训练\n",
    "train_loss, test_loss = train(net, train_iter, loss, num_epochs, lr, optimizer)\n",
    "# 训练完成后绘制损失函数\n",
    "draw_loss(train_loss, test_loss)"
   ],
   "metadata": {
    "collapsed": false,
    "ExecuteTime": {
     "end_time": "2024-09-01T07:21:54.787767800Z",
     "start_time": "2024-09-01T07:21:45.698066100Z"
    }
   },
   "id": "7592d3c0ae44a49"
  },
  {
   "cell_type": "markdown",
   "source": [
    "二、二分类任务"
   ],
   "metadata": {
    "collapsed": false
   },
   "id": "b91514d862b2a2c2"
  },
  {
   "cell_type": "code",
   "execution_count": 44,
   "outputs": [],
   "source": [
    "# 准备数据\n",
    "X_train, y_train, X_test, y_test = get_classification_data()\n",
    "batch_size = 256\n",
    "\n",
    "# Create custom datasets\n",
    "train_dataset = MyDataset(X_train, y_train)\n",
    "test_dataset = MyDataset(X_test, y_test)\n",
    "\n",
    "# Create data loaders\n",
    "train_iter = DataLoader(train_dataset, batch_size=batch_size, shuffle=True, num_workers=0)\n",
    "test_iter = DataLoader(test_dataset, batch_size=batch_size, shuffle=False, num_workers=0)"
   ],
   "metadata": {
    "collapsed": false,
    "ExecuteTime": {
     "end_time": "2024-09-01T07:35:15.331911200Z",
     "start_time": "2024-09-01T07:35:15.266599500Z"
    }
   },
   "id": "b03711979b42f4f5"
  },
  {
   "cell_type": "code",
   "execution_count": 45,
   "outputs": [],
   "source": [
    "# 定义模型\n",
    "class Net():\n",
    "    def __init__(self):\n",
    "        # 定义并初始化模型参数\n",
    "        num_inputs, num_outputs, num_hiddens = 200, 2, 256\n",
    "        W1 = torch.tensor(np.random.normal(0, 0.01, (num_hiddens, num_inputs)), dtype=torch.float)\n",
    "        b1 = torch.zeros(num_hiddens, dtype=torch.float)\n",
    "        W2 = torch.tensor(np.random.normal(0, 0.01, (num_outputs, num_hiddens)), dtype=torch.float)\n",
    "        b2 = torch.zeros(num_outputs, dtype=torch.float)\n",
    "        # 告知PyTorch框架，上述四个变量需要求梯度\n",
    "        self.params = [W1, b1, W2, b2]\n",
    "        for param in self.params:\n",
    "            param.requires_grad = True\n",
    "        \n",
    "        # 定义模型结构\n",
    "        self.input_layer = lambda x: x.view(x.shape[0], -1)\n",
    "        self.hidden_layer = lambda x: self.my_ReLU(torch.matmul(x, W1.t()) + b1)\n",
    "        self.output_layer = lambda x: torch.matmul(x, W2.t()) + b2\n",
    "    \n",
    "    @staticmethod\n",
    "    def my_ReLU(x):\n",
    "        # 定义激活函数\n",
    "        return torch.max(input=x, other=torch.tensor(0.0))\n",
    "    \n",
    "    def forward(self, x):\n",
    "        # 定义模型前向传播过程\n",
    "        flatten_input = self.input_layer(x)\n",
    "        hidden_output = self.hidden_layer(flatten_input)\n",
    "        final_output = self.output_layer(hidden_output)\n",
    "        return final_output"
   ],
   "metadata": {
    "collapsed": false,
    "ExecuteTime": {
     "end_time": "2024-09-01T07:35:16.481869500Z",
     "start_time": "2024-09-01T07:35:16.469566800Z"
    }
   },
   "id": "ac0a111102d262d6"
  },
  {
   "cell_type": "code",
   "execution_count": 46,
   "outputs": [],
   "source": [
    "# 定义优化算法\n",
    "def SGD(params, lr):\n",
    "    for param in params:\n",
    "        param.data -= lr * param.grad"
   ],
   "metadata": {
    "collapsed": false,
    "ExecuteTime": {
     "end_time": "2024-09-01T07:35:17.203170900Z",
     "start_time": "2024-09-01T07:35:17.189926200Z"
    }
   },
   "id": "31993ddecd135fd8"
  },
  {
   "cell_type": "code",
   "execution_count": 47,
   "outputs": [],
   "source": [
    "# 定义训练函数\n",
    "def train(net, train_iter, loss_func, num_epochs, lr=None, optimizer=None):\n",
    "    train_loss_list = []\n",
    "    test_loss_list = []\n",
    "    for epoch in range(num_epochs):\n",
    "        train_1_sum, train_acc_sum, n, c = 0.0, 0.0, 0, 0\n",
    "        for X, y in train_iter:\n",
    "            y_hat = net.forward(X)\n",
    "            loss = loss_func(y_hat, y)\n",
    "            loss.backward()\n",
    "            optimizer(net.params, lr)\n",
    "            # 梯度清零\n",
    "            # optimizer.zero_grad()\n",
    "            # 考虑到第一次进入训练循环，模型参数还没有梯度，所以把梯度清零放在最后\n",
    "            for param in net.params:\n",
    "                param.grad.data.zero_()\n",
    "            train_1_sum += loss.item()\n",
    "            train_acc_sum += (y_hat.argmax(dim=1) == y).sum().item()\n",
    "            n += y.shape[0]\n",
    "            c += 1\n",
    "        test_acc, test_loss = evaluate_accuracy(test_iter, net, loss_func)\n",
    "        train_loss_list.append(train_1_sum / c)\n",
    "        test_loss_list.append(test_loss)\n",
    "        print('epoch %d, train loss %.4f, test loss %.4f, train acc %.3f, test acc %.3f' % (epoch + 1, train_1_sum / c, test_loss, train_acc_sum / n, test_acc))\n",
    "    return train_loss_list, test_loss_list"
   ],
   "metadata": {
    "collapsed": false,
    "ExecuteTime": {
     "end_time": "2024-09-01T07:35:18.165201700Z",
     "start_time": "2024-09-01T07:35:18.145388400Z"
    }
   },
   "id": "8a9fc3722a9a32fe"
  },
  {
   "cell_type": "code",
   "execution_count": 52,
   "outputs": [
    {
     "name": "stdout",
     "output_type": "stream",
     "text": [
      "epoch 1, train loss 0.0536, test loss 0.0042, train acc 0.987, test acc 1.000\n",
      "epoch 2, train loss 0.0027, test loss 0.0018, train acc 1.000, test acc 1.000\n",
      "epoch 3, train loss 0.0014, test loss 0.0011, train acc 1.000, test acc 1.000\n",
      "epoch 4, train loss 0.0009, test loss 0.0008, train acc 1.000, test acc 1.000\n",
      "epoch 5, train loss 0.0007, test loss 0.0006, train acc 1.000, test acc 1.000\n"
     ]
    },
    {
     "data": {
      "text/plain": "<Figure size 640x480 with 1 Axes>",
      "image/png": "[encoded data removed]"
     },
     "metadata": {},
     "output_type": "display_data"
    }
   ],
   "source": [
    "# 训练模型\n",
    "## 初始化模型\n",
    "net = Net()\n",
    "## 设置训练轮数\n",
    "num_epochs = 5\n",
    "## 设置学习率\n",
    "lr = 0.01\n",
    "## 指定优化器为自定义的随机梯度下降\n",
    "optimizer = SGD\n",
    "## 初始化损失函数\n",
    "loss = my_cross_entropy_loss\n",
    "\n",
    "# 开始训练\n",
    "train_loss, test_loss = train(net, train_iter, loss, num_epochs, lr, optimizer)\n",
    "# 训练完成后绘制损失函数\n",
    "draw_loss(train_loss, test_loss)"
   ],
   "metadata": {
    "collapsed": false,
    "ExecuteTime": {
     "end_time": "2024-09-01T07:36:23.968322500Z",
     "start_time": "2024-09-01T07:36:22.868007700Z"
    }
   },
   "id": "cd3846c1894661bc"
  },
  {
   "cell_type": "markdown",
   "source": [
    "二、多分类任务"
   ],
   "metadata": {
    "collapsed": false
   },
   "id": "f23572a4330b9f11"
  },
  {
   "cell_type": "code",
   "execution_count": 54,
   "outputs": [
    {
     "name": "stderr",
     "output_type": "stream",
     "text": [
      "C:\\Users\\Jemzh\\AppData\\Local\\Temp\\ipykernel_23172\\1997184050.py:3: UserWarning: To copy construct from a tensor, it is recommended to use sourceTensor.clone().detach() or sourceTensor.clone().detach().requires_grad_(True), rather than torch.tensor(sourceTensor).\n",
      "  self.X = torch.tensor(X, dtype=torch.float32)\n",
      "C:\\Users\\Jemzh\\AppData\\Local\\Temp\\ipykernel_23172\\1997184050.py:4: UserWarning: To copy construct from a tensor, it is recommended to use sourceTensor.clone().detach() or sourceTensor.clone().detach().requires_grad_(True), rather than torch.tensor(sourceTensor).\n",
      "  self.y = torch.tensor(y, dtype=torch.float32)\n"
     ]
    }
   ],
   "source": [
    "# 准备数据\n",
    "train_data, test_data = get_MNIST_data()\n",
    "batch_size = 256\n",
    "\n",
    "# Create custom datasets\n",
    "train_dataset = MyDataset(train_data.data, train_data.targets)\n",
    "test_dataset = MyDataset(test_data.data, test_data.targets)\n",
    "\n",
    "# Create data loaders\n",
    "train_iter = DataLoader(train_dataset, batch_size=batch_size, shuffle=True, num_workers=0)\n",
    "test_iter = DataLoader(test_dataset, batch_size=batch_size, shuffle=False, num_workers=0)"
   ],
   "metadata": {
    "collapsed": false,
    "ExecuteTime": {
     "end_time": "2024-09-01T07:39:39.653447700Z",
     "start_time": "2024-09-01T07:39:39.602206400Z"
    }
   },
   "id": "59d2f7c461c1ffa8"
  },
  {
   "cell_type": "code",
   "execution_count": 65,
   "outputs": [],
   "source": [
    "# 定义模型\n",
    "class Net():\n",
    "    def __init__(self):\n",
    "        # 定义并初始化模型参数\n",
    "        num_inputs, num_outputs, num_hiddens = 784, 10, 256\n",
    "        W1 = torch.tensor(np.random.normal(0, 0.01, (num_hiddens, num_inputs)), dtype=torch.float)\n",
    "        b1 = torch.zeros(num_hiddens, dtype=torch.float)\n",
    "        W2 = torch.tensor(np.random.normal(0, 0.01, (num_outputs, num_hiddens)), dtype=torch.float)\n",
    "        b2 = torch.zeros(num_outputs, dtype=torch.float)\n",
    "        # 告知PyTorch框架，上述四个变量需要求梯度\n",
    "        self.params = [W1, b1, W2, b2]\n",
    "        for param in self.params:\n",
    "            param.requires_grad = True\n",
    "        \n",
    "        # 定义模型结构\n",
    "        self.input_layer = lambda x: x.view(x.shape[0], -1)\n",
    "        self.hidden_layer = lambda x: self.my_ReLU(torch.matmul(x, W1.t()) + b1)\n",
    "        self.output_layer = lambda x: torch.nn.functional.softmax(torch.matmul(x, W2.t()) + b2)\n",
    "    \n",
    "    @staticmethod\n",
    "    def my_ReLU(x):\n",
    "        # 定义激活函数\n",
    "        return torch.max(input=x, other=torch.tensor(0.0))\n",
    "    \n",
    "    def forward(self, x):\n",
    "        # 定义模型前向传播过程\n",
    "        flatten_input = self.input_layer(x)\n",
    "        hidden_output = self.hidden_layer(flatten_input)\n",
    "        final_output = self.output_layer(hidden_output)\n",
    "        return final_output"
   ],
   "metadata": {
    "collapsed": false,
    "ExecuteTime": {
     "end_time": "2024-09-01T07:48:12.646028400Z",
     "start_time": "2024-09-01T07:48:12.629991600Z"
    }
   },
   "id": "1e08f220fde98ad1"
  },
  {
   "cell_type": "code",
   "execution_count": 60,
   "outputs": [],
   "source": [
    "# 定义优化算法\n",
    "def SGD(params, lr):\n",
    "    for param in params:\n",
    "        param.data -= lr * param.grad"
   ],
   "metadata": {
    "collapsed": false,
    "ExecuteTime": {
     "end_time": "2024-09-01T07:43:46.804487300Z",
     "start_time": "2024-09-01T07:43:46.788956100Z"
    }
   },
   "id": "f2de4bb69fc4c5d3"
  },
  {
   "cell_type": "code",
   "execution_count": 61,
   "outputs": [],
   "source": [
    "# 定义训练函数\n",
    "def train(net, train_iter, loss_func, num_epochs, lr=None, optimizer=None):\n",
    "    train_loss_list = []\n",
    "    test_loss_list = []\n",
    "    for epoch in range(num_epochs):\n",
    "        train_1_sum, train_acc_sum, n, c = 0.0, 0.0, 0, 0\n",
    "        for X, y in train_iter:\n",
    "            y_hat = net.forward(X)\n",
    "            loss = loss_func(y_hat, y)\n",
    "            loss.backward()\n",
    "            optimizer(net.params, lr)\n",
    "            # 梯度清零\n",
    "            # optimizer.zero_grad()\n",
    "            # 考虑到第一次进入训练循环，模型参数还没有梯度，所以把梯度清零放在最后\n",
    "            for param in net.params:\n",
    "                param.grad.data.zero_()\n",
    "            train_1_sum += loss.item()\n",
    "            train_acc_sum += (y_hat.argmax(dim=1) == y).sum().item()\n",
    "            n += y.shape[0]\n",
    "            c += 1\n",
    "        test_acc, test_loss = evaluate_accuracy(test_iter, net, loss_func)\n",
    "        train_loss_list.append(train_1_sum / c)\n",
    "        test_loss_list.append(test_loss)\n",
    "        print('epoch %d, train loss %.4f, test loss %.4f, train acc %.3f, test acc %.3f' % (epoch + 1, train_1_sum / c, test_loss, train_acc_sum / n, test_acc))\n",
    "    return train_loss_list, test_loss_list"
   ],
   "metadata": {
    "collapsed": false,
    "ExecuteTime": {
     "end_time": "2024-09-01T07:43:47.186308200Z",
     "start_time": "2024-09-01T07:43:47.170163400Z"
    }
   },
   "id": "62f6cd2d911a2ea0"
  },
  {
   "cell_type": "code",
   "execution_count": 66,
   "outputs": [
    {
     "name": "stderr",
     "output_type": "stream",
     "text": [
      "C:\\Users\\Jemzh\\AppData\\Local\\Temp\\ipykernel_23172\\584790511.py:18: UserWarning: Implicit dimension choice for softmax has been deprecated. Change the call to include dim=X as an argument.\n",
      "  self.output_layer = lambda x: torch.nn.functional.softmax(torch.matmul(x, W2.t()) + b2)\n"
     ]
    },
    {
     "name": "stdout",
     "output_type": "stream",
     "text": [
      "epoch 1, train loss 1.6942, test loss 1.5524, train acc 0.771, test acc 0.913\n",
      "epoch 2, train loss 1.5274, test loss 1.5217, train acc 0.939, test acc 0.941\n",
      "epoch 3, train loss 1.5102, test loss 1.5161, train acc 0.955, test acc 0.948\n",
      "epoch 4, train loss 1.5014, test loss 1.5040, train acc 0.963, test acc 0.959\n",
      "epoch 5, train loss 1.4950, test loss 1.4994, train acc 0.969, test acc 0.964\n",
      "epoch 6, train loss 1.4907, test loss 1.4953, train acc 0.974, test acc 0.968\n",
      "epoch 7, train loss 1.4870, test loss 1.4925, train acc 0.977, test acc 0.970\n",
      "epoch 8, train loss 1.4841, test loss 1.4909, train acc 0.980, test acc 0.972\n",
      "epoch 9, train loss 1.4820, test loss 1.4907, train acc 0.982, test acc 0.972\n",
      "epoch 10, train loss 1.4802, test loss 1.4900, train acc 0.983, test acc 0.973\n",
      "epoch 11, train loss 1.4784, test loss 1.4940, train acc 0.985, test acc 0.969\n",
      "epoch 12, train loss 1.4774, test loss 1.4974, train acc 0.986, test acc 0.965\n",
      "epoch 13, train loss 1.4759, test loss 1.4873, train acc 0.987, test acc 0.975\n",
      "epoch 14, train loss 1.4750, test loss 1.4877, train acc 0.988, test acc 0.975\n",
      "epoch 15, train loss 1.4740, test loss 1.4868, train acc 0.989, test acc 0.976\n",
      "epoch 16, train loss 1.4735, test loss 1.4870, train acc 0.989, test acc 0.975\n",
      "epoch 17, train loss 1.4726, test loss 1.4894, train acc 0.990, test acc 0.973\n",
      "epoch 18, train loss 1.4720, test loss 1.4920, train acc 0.990, test acc 0.970\n",
      "epoch 19, train loss 1.4716, test loss 1.4862, train acc 0.991, test acc 0.976\n",
      "epoch 20, train loss 1.4711, test loss 1.4863, train acc 0.991, test acc 0.975\n",
      "epoch 21, train loss 1.4708, test loss 1.4864, train acc 0.991, test acc 0.975\n",
      "epoch 22, train loss 1.4706, test loss 1.4858, train acc 0.991, test acc 0.977\n",
      "epoch 23, train loss 1.4702, test loss 1.4856, train acc 0.992, test acc 0.976\n",
      "epoch 24, train loss 1.4700, test loss 1.4849, train acc 0.992, test acc 0.977\n",
      "epoch 25, train loss 1.4698, test loss 1.4866, train acc 0.992, test acc 0.976\n",
      "epoch 26, train loss 1.4697, test loss 1.4848, train acc 0.992, test acc 0.977\n",
      "epoch 27, train loss 1.4695, test loss 1.4861, train acc 0.992, test acc 0.976\n",
      "epoch 28, train loss 1.4694, test loss 1.4846, train acc 0.992, test acc 0.977\n",
      "epoch 29, train loss 1.4692, test loss 1.4844, train acc 0.992, test acc 0.977\n",
      "epoch 30, train loss 1.4690, test loss 1.4843, train acc 0.993, test acc 0.978\n",
      "epoch 31, train loss 1.4689, test loss 1.4841, train acc 0.993, test acc 0.978\n",
      "epoch 32, train loss 1.4687, test loss 1.4845, train acc 0.993, test acc 0.977\n",
      "epoch 33, train loss 1.4687, test loss 1.4841, train acc 0.993, test acc 0.977\n",
      "epoch 34, train loss 1.4685, test loss 1.4839, train acc 0.993, test acc 0.978\n",
      "epoch 35, train loss 1.4684, test loss 1.4845, train acc 0.993, test acc 0.978\n",
      "epoch 36, train loss 1.4684, test loss 1.4837, train acc 0.993, test acc 0.978\n",
      "epoch 37, train loss 1.4683, test loss 1.4835, train acc 0.993, test acc 0.979\n",
      "epoch 38, train loss 1.4682, test loss 1.4834, train acc 0.993, test acc 0.978\n",
      "epoch 39, train loss 1.4681, test loss 1.4832, train acc 0.993, test acc 0.978\n",
      "epoch 40, train loss 1.4680, test loss 1.4834, train acc 0.993, test acc 0.978\n",
      "epoch 41, train loss 1.4679, test loss 1.4837, train acc 0.994, test acc 0.978\n",
      "epoch 42, train loss 1.4679, test loss 1.4832, train acc 0.994, test acc 0.978\n",
      "epoch 43, train loss 1.4678, test loss 1.4841, train acc 0.994, test acc 0.977\n",
      "epoch 44, train loss 1.4677, test loss 1.4832, train acc 0.994, test acc 0.979\n",
      "epoch 45, train loss 1.4677, test loss 1.4831, train acc 0.994, test acc 0.978\n",
      "epoch 46, train loss 1.4677, test loss 1.4833, train acc 0.994, test acc 0.979\n",
      "epoch 47, train loss 1.4676, test loss 1.4828, train acc 0.994, test acc 0.979\n",
      "epoch 48, train loss 1.4676, test loss 1.4829, train acc 0.994, test acc 0.979\n",
      "epoch 49, train loss 1.4675, test loss 1.4828, train acc 0.994, test acc 0.979\n",
      "epoch 50, train loss 1.4674, test loss 1.4829, train acc 0.994, test acc 0.978\n"
     ]
    },
    {
     "data": {
      "text/plain": "<Figure size 640x480 with 1 Axes>",
      "image/png": "[encoded data removed]"
     },
     "metadata": {},
     "output_type": "display_data"
    }
   ],
   "source": [
    "# 训练模型\n",
    "## 初始化模型\n",
    "net = Net()\n",
    "## 设置训练轮数\n",
    "num_epochs = 50\n",
    "## 设置学习率\n",
    "lr = 0.01\n",
    "## 指定优化器为自定义的随机梯度下降\n",
    "optimizer = SGD\n",
    "## 初始化损失函数\n",
    "loss = my_cross_entropy_loss\n",
    "\n",
    "# 开始训练\n",
    "train_loss, test_loss = train(net, train_iter, loss, num_epochs, lr, optimizer)\n",
    "# 训练完成后绘制损失函数\n",
    "draw_loss(train_loss, test_loss)"
   ],
   "metadata": {
    "collapsed": false,
    "ExecuteTime": {
     "end_time": "2024-09-01T07:48:55.261658900Z",
     "start_time": "2024-09-01T07:48:15.053063800Z"
    }
   },
   "id": "f6832dd31515c3e9"
  },
  {
   "cell_type": "markdown",
   "source": [
    "## 任务2：调用PyTorch实现前馈神经网络解决上述回归、二分类、多分类任务\n",
    "\n",
    "从训练时间、预测精度、Loss变化等角度分析实验结果（最好使用图表展示）"
   ],
   "metadata": {
    "collapsed": false
   },
   "id": "1af1276a98832beb"
  },
  {
   "cell_type": "code",
   "execution_count": 91,
   "outputs": [],
   "source": [
    "import torch\n",
    "from torch.utils.data import Dataset\n",
    "\n",
    "class MyDataset(Dataset):\n",
    "    def __init__(self, X, y, task_type='regression'):\n",
    "        self.X = torch.tensor(X, dtype=torch.float32)\n",
    "        if task_type == 'classification':\n",
    "            self.y = torch.tensor(y, dtype=torch.long)\n",
    "        else:\n",
    "            self.y = torch.tensor(y, dtype=torch.float32)\n",
    "\n",
    "    def __len__(self):\n",
    "        return len(self.y)\n",
    "\n",
    "    def __getitem__(self, idx):\n",
    "        return self.X[idx], self.y[idx]"
   ],
   "metadata": {
    "collapsed": false,
    "ExecuteTime": {
     "end_time": "2024-09-01T08:07:27.887804500Z",
     "start_time": "2024-09-01T08:07:27.872091900Z"
    }
   },
   "id": "2b39da0d6cdb539a"
  },
  {
   "cell_type": "markdown",
   "source": [
    "1. 回归任务"
   ],
   "metadata": {
    "collapsed": false
   },
   "id": "daca5115a08b1c65"
  },
  {
   "cell_type": "code",
   "execution_count": 92,
   "outputs": [],
   "source": [
    "# 准备数据\n",
    "X_train, y_train, X_test, y_test = get_regression_data()\n",
    "batch_size = 256\n",
    "\n",
    "# Create custom datasets for classification tasks\n",
    "train_dataset = MyDataset(X_train, y_train, task_type='classification')\n",
    "test_dataset = MyDataset(X_test, y_test, task_type='classification')\n",
    "\n",
    "# Create data loaders\n",
    "train_iter = DataLoader(train_dataset, batch_size=batch_size, shuffle=True, num_workers=0)\n",
    "test_iter = DataLoader(test_dataset, batch_size=batch_size, shuffle=False, num_workers=0)"
   ],
   "metadata": {
    "collapsed": false,
    "ExecuteTime": {
     "end_time": "2024-09-01T08:07:52.244061900Z",
     "start_time": "2024-09-01T08:07:52.164008Z"
    }
   },
   "id": "4e64b7a0c79c380d"
  },
  {
   "cell_type": "code",
   "execution_count": 74,
   "outputs": [],
   "source": [
    "# 定义模型\n",
    "class Net(nn.Module):\n",
    "    def __init__(self):\n",
    "        super(Net, self).__init__()\n",
    "        # 定义模型参数\n",
    "        num_inputs, num_outputs, num_hiddens = 500, 1, 256\n",
    "        \n",
    "        # 定义模型结构\n",
    "        self.input_layer = nn.Flatten()\n",
    "        self.hidden_layer = nn.Sequential(\n",
    "            nn.Linear(num_inputs, num_hiddens),\n",
    "            nn.ReLU()\n",
    "        )\n",
    "        self.output_layer = nn.Linear(num_hiddens, num_outputs)\n",
    "        \n",
    "        # 初始化模型参数\n",
    "        for hidden_layer in self.hidden_layer.parameters():\n",
    "            nn.init.normal_(hidden_layer, mean=0, std=0.01)\n",
    "        for output_layer in self.output_layer.parameters():\n",
    "            nn.init.normal_(output_layer, mean=0, std=0.01)\n",
    "    \n",
    "    def forward(self, x):\n",
    "        x = self.input_layer(x)\n",
    "        x = self.hidden_layer(x)\n",
    "        x = self.output_layer(x)\n",
    "        return x"
   ],
   "metadata": {
    "collapsed": false,
    "ExecuteTime": {
     "end_time": "2024-09-01T07:58:04.923678200Z",
     "start_time": "2024-09-01T07:58:04.902856500Z"
    }
   },
   "id": "aa15da77f478a892"
  },
  {
   "cell_type": "code",
   "execution_count": 75,
   "outputs": [],
   "source": [
    "# 定义训练函数\n",
    "def train(net, train_iter, loss_func, num_epochs, lr=None, optimizer=None):\n",
    "    train_loss_list = []\n",
    "    test_loss_list = []\n",
    "    for epoch in range(num_epochs):\n",
    "        train_1_sum, train_acc_sum, n, c = 0.0, 0.0, 0, 0\n",
    "        for X, y in train_iter:\n",
    "            y_hat = net(X)\n",
    "            loss = loss_func(y_hat, y)\n",
    "            optimizer.zero_grad()\n",
    "            loss.backward()\n",
    "            optimizer.step()\n",
    "            train_1_sum += loss.item()\n",
    "            n += y.shape[0]\n",
    "            c += 1\n",
    "        test_acc, test_loss = evaluate_accuracy(test_iter, net, loss_func)\n",
    "        train_loss_list.append(train_1_sum / c)\n",
    "        test_loss_list.append(test_loss)\n",
    "        print('epoch %d, train loss %.4f, test loss %.4f' % (epoch + 1, train_1_sum / c, test_loss))\n",
    "    return train_loss_list, test_loss_list"
   ],
   "metadata": {
    "collapsed": false,
    "ExecuteTime": {
     "end_time": "2024-09-01T07:58:05.290887800Z",
     "start_time": "2024-09-01T07:58:05.274223600Z"
    }
   },
   "id": "91d95209f9083c0c"
  },
  {
   "cell_type": "code",
   "execution_count": 76,
   "outputs": [
    {
     "name": "stderr",
     "output_type": "stream",
     "text": [
      "C:\\Users\\Jemzh\\anaconda3\\envs\\ctr_torch\\lib\\site-packages\\torch\\nn\\modules\\loss.py:530: UserWarning: Using a target size (torch.Size([256])) that is different to the input size (torch.Size([256, 1])). This will likely lead to incorrect results due to broadcasting. Please ensure they have the same size.\n",
      "  return F.mse_loss(input, target, reduction=self.reduction)\n",
      "C:\\Users\\Jemzh\\anaconda3\\envs\\ctr_torch\\lib\\site-packages\\torch\\nn\\modules\\loss.py:530: UserWarning: Using a target size (torch.Size([88])) that is different to the input size (torch.Size([88, 1])). This will likely lead to incorrect results due to broadcasting. Please ensure they have the same size.\n",
      "  return F.mse_loss(input, target, reduction=self.reduction)\n",
      "C:\\Users\\Jemzh\\anaconda3\\envs\\ctr_torch\\lib\\site-packages\\torch\\nn\\modules\\loss.py:530: UserWarning: Using a target size (torch.Size([184])) that is different to the input size (torch.Size([184, 1])). This will likely lead to incorrect results due to broadcasting. Please ensure they have the same size.\n",
      "  return F.mse_loss(input, target, reduction=self.reduction)\n"
     ]
    },
    {
     "name": "stdout",
     "output_type": "stream",
     "text": [
      "epoch 1, train loss 0.0170, test loss 0.0162\n",
      "epoch 2, train loss 0.0160, test loss 0.0160\n",
      "epoch 3, train loss 0.0159, test loss 0.0160\n",
      "epoch 4, train loss 0.0160, test loss 0.0160\n",
      "epoch 5, train loss 0.0159, test loss 0.0160\n",
      "epoch 6, train loss 0.0159, test loss 0.0160\n",
      "epoch 7, train loss 0.0159, test loss 0.0160\n",
      "epoch 8, train loss 0.0159, test loss 0.0160\n",
      "epoch 9, train loss 0.0159, test loss 0.0159\n",
      "epoch 10, train loss 0.0159, test loss 0.0159\n",
      "epoch 11, train loss 0.0159, test loss 0.0159\n",
      "epoch 12, train loss 0.0159, test loss 0.0159\n",
      "epoch 13, train loss 0.0159, test loss 0.0159\n",
      "epoch 14, train loss 0.0159, test loss 0.0159\n",
      "epoch 15, train loss 0.0159, test loss 0.0159\n",
      "epoch 16, train loss 0.0158, test loss 0.0159\n",
      "epoch 17, train loss 0.0159, test loss 0.0159\n",
      "epoch 18, train loss 0.0158, test loss 0.0159\n",
      "epoch 19, train loss 0.0158, test loss 0.0159\n",
      "epoch 20, train loss 0.0158, test loss 0.0159\n",
      "epoch 21, train loss 0.0159, test loss 0.0159\n",
      "epoch 22, train loss 0.0159, test loss 0.0159\n",
      "epoch 23, train loss 0.0157, test loss 0.0159\n",
      "epoch 24, train loss 0.0158, test loss 0.0158\n",
      "epoch 25, train loss 0.0158, test loss 0.0158\n",
      "epoch 26, train loss 0.0158, test loss 0.0158\n",
      "epoch 27, train loss 0.0158, test loss 0.0158\n",
      "epoch 28, train loss 0.0157, test loss 0.0158\n",
      "epoch 29, train loss 0.0158, test loss 0.0158\n",
      "epoch 30, train loss 0.0158, test loss 0.0158\n",
      "epoch 31, train loss 0.0158, test loss 0.0158\n",
      "epoch 32, train loss 0.0157, test loss 0.0158\n",
      "epoch 33, train loss 0.0157, test loss 0.0158\n",
      "epoch 34, train loss 0.0158, test loss 0.0158\n",
      "epoch 35, train loss 0.0159, test loss 0.0158\n",
      "epoch 36, train loss 0.0157, test loss 0.0158\n",
      "epoch 37, train loss 0.0157, test loss 0.0158\n",
      "epoch 38, train loss 0.0158, test loss 0.0158\n",
      "epoch 39, train loss 0.0157, test loss 0.0158\n",
      "epoch 40, train loss 0.0158, test loss 0.0158\n",
      "epoch 41, train loss 0.0158, test loss 0.0158\n",
      "epoch 42, train loss 0.0157, test loss 0.0158\n",
      "epoch 43, train loss 0.0156, test loss 0.0158\n",
      "epoch 44, train loss 0.0158, test loss 0.0158\n",
      "epoch 45, train loss 0.0158, test loss 0.0158\n",
      "epoch 46, train loss 0.0157, test loss 0.0158\n",
      "epoch 47, train loss 0.0156, test loss 0.0158\n",
      "epoch 48, train loss 0.0158, test loss 0.0158\n",
      "epoch 49, train loss 0.0158, test loss 0.0158\n",
      "epoch 50, train loss 0.0157, test loss 0.0158\n",
      "epoch 51, train loss 0.0157, test loss 0.0158\n",
      "epoch 52, train loss 0.0157, test loss 0.0158\n",
      "epoch 53, train loss 0.0157, test loss 0.0158\n",
      "epoch 54, train loss 0.0157, test loss 0.0157\n",
      "epoch 55, train loss 0.0158, test loss 0.0157\n",
      "epoch 56, train loss 0.0158, test loss 0.0157\n",
      "epoch 57, train loss 0.0157, test loss 0.0157\n",
      "epoch 58, train loss 0.0156, test loss 0.0157\n",
      "epoch 59, train loss 0.0156, test loss 0.0157\n",
      "epoch 60, train loss 0.0155, test loss 0.0157\n",
      "epoch 61, train loss 0.0156, test loss 0.0157\n",
      "epoch 62, train loss 0.0156, test loss 0.0157\n",
      "epoch 63, train loss 0.0157, test loss 0.0157\n",
      "epoch 64, train loss 0.0157, test loss 0.0157\n",
      "epoch 65, train loss 0.0157, test loss 0.0157\n",
      "epoch 66, train loss 0.0158, test loss 0.0157\n",
      "epoch 67, train loss 0.0157, test loss 0.0157\n",
      "epoch 68, train loss 0.0157, test loss 0.0157\n",
      "epoch 69, train loss 0.0157, test loss 0.0157\n",
      "epoch 70, train loss 0.0156, test loss 0.0157\n",
      "epoch 71, train loss 0.0155, test loss 0.0157\n",
      "epoch 72, train loss 0.0157, test loss 0.0157\n",
      "epoch 73, train loss 0.0156, test loss 0.0157\n",
      "epoch 74, train loss 0.0156, test loss 0.0157\n",
      "epoch 75, train loss 0.0157, test loss 0.0157\n",
      "epoch 76, train loss 0.0157, test loss 0.0157\n",
      "epoch 77, train loss 0.0156, test loss 0.0157\n",
      "epoch 78, train loss 0.0156, test loss 0.0157\n",
      "epoch 79, train loss 0.0157, test loss 0.0157\n",
      "epoch 80, train loss 0.0156, test loss 0.0157\n",
      "epoch 81, train loss 0.0158, test loss 0.0157\n",
      "epoch 82, train loss 0.0157, test loss 0.0157\n",
      "epoch 83, train loss 0.0156, test loss 0.0157\n",
      "epoch 84, train loss 0.0156, test loss 0.0157\n",
      "epoch 85, train loss 0.0155, test loss 0.0157\n",
      "epoch 86, train loss 0.0156, test loss 0.0157\n",
      "epoch 87, train loss 0.0157, test loss 0.0157\n",
      "epoch 88, train loss 0.0156, test loss 0.0157\n",
      "epoch 89, train loss 0.0156, test loss 0.0157\n",
      "epoch 90, train loss 0.0156, test loss 0.0157\n",
      "epoch 91, train loss 0.0156, test loss 0.0157\n",
      "epoch 92, train loss 0.0157, test loss 0.0157\n",
      "epoch 93, train loss 0.0156, test loss 0.0157\n",
      "epoch 94, train loss 0.0155, test loss 0.0157\n",
      "epoch 95, train loss 0.0157, test loss 0.0157\n",
      "epoch 96, train loss 0.0156, test loss 0.0157\n",
      "epoch 97, train loss 0.0156, test loss 0.0157\n",
      "epoch 98, train loss 0.0156, test loss 0.0157\n",
      "epoch 99, train loss 0.0157, test loss 0.0157\n",
      "epoch 100, train loss 0.0157, test loss 0.0157\n"
     ]
    },
    {
     "data": {
      "text/plain": "<Figure size 640x480 with 1 Axes>",
      "image/png": "[encoded data removed]"
     },
     "metadata": {},
     "output_type": "display_data"
    }
   ],
   "source": [
    "# 训练模型\n",
    "## 初始化模型\n",
    "net = Net()\n",
    "## 设置训练轮数\n",
    "num_epochs = 100\n",
    "## 设置学习率\n",
    "lr = 0.01\n",
    "## 指定优化器为PyTorch自带的随机梯度下降\n",
    "optimizer = torch.optim.SGD(net.parameters(), lr=lr)\n",
    "## 初始化损失函数\n",
    "loss = nn.MSELoss()\n",
    "\n",
    "# 开始训练\n",
    "train_loss, test_loss = train(net, train_iter, loss, num_epochs, lr, optimizer)\n",
    "# 训练完成后绘制损失函数\n",
    "draw_loss(train_loss, test_loss)"
   ],
   "metadata": {
    "collapsed": false,
    "ExecuteTime": {
     "end_time": "2024-09-01T07:58:15.478029500Z",
     "start_time": "2024-09-01T07:58:05.782192800Z"
    }
   },
   "id": "cf407d6c25a04f16"
  },
  {
   "cell_type": "markdown",
   "source": [
    "2. 二分类任务"
   ],
   "metadata": {
    "collapsed": false
   },
   "id": "5914ca999eec6b03"
  },
  {
   "cell_type": "code",
   "execution_count": 114,
   "outputs": [],
   "source": [
    "# 准备数据\n",
    "X_train, y_train, X_test, y_test = get_classification_data()\n",
    "batch_size = 256\n",
    "\n",
    "train_dataset = MyDataset(X_train, y_train, task_type='classification')\n",
    "test_dataset = MyDataset(X_test, y_test, task_type='classification')\n",
    "\n",
    "train_iter = DataLoader(train_dataset, batch_size=batch_size, shuffle=True, num_workers=0)\n",
    "test_iter = DataLoader(test_dataset, batch_size=batch_size, shuffle=False, num_workers=0)"
   ],
   "metadata": {
    "collapsed": false,
    "ExecuteTime": {
     "end_time": "2024-09-01T08:16:14.343019500Z",
     "start_time": "2024-09-01T08:16:14.283780100Z"
    }
   },
   "id": "52fa655d56ed5a95"
  },
  {
   "cell_type": "code",
   "execution_count": 115,
   "outputs": [],
   "source": [
    "# 定义模型\n",
    "class Net(nn.Module):\n",
    "    def __init__(self):\n",
    "        super(Net, self).__init__()\n",
    "        # 定义模型参数\n",
    "        num_inputs, num_outputs, num_hiddens = 200, 2, 256\n",
    "        \n",
    "        # 定义模型结构\n",
    "        self.input_layer = nn.Flatten()\n",
    "        self.hidden_layer = nn.Sequential(\n",
    "            nn.Linear(num_inputs, num_hiddens),\n",
    "            nn.ReLU()\n",
    "        )\n",
    "        self.output_layer = nn.Linear(num_hiddens, num_outputs)\n",
    "        \n",
    "        # 初始化模型参数\n",
    "        for hidden_layer in self.hidden_layer.parameters():\n",
    "            nn.init.normal_(hidden_layer, mean=0, std=0.01)\n",
    "        for output_layer in self.output_layer.parameters():\n",
    "            nn.init.normal_(output_layer, mean=0, std=0.01)\n",
    "    \n",
    "    def forward(self, x):\n",
    "        x = self.input_layer(x)\n",
    "        x = self.hidden_layer(x)\n",
    "        x = self.output_layer(x)\n",
    "        x = torch.nn.functional.softmax(x, dim=1)\n",
    "        return x"
   ],
   "metadata": {
    "collapsed": false,
    "ExecuteTime": {
     "end_time": "2024-09-01T08:16:14.523501100Z",
     "start_time": "2024-09-01T08:16:14.511311300Z"
    }
   },
   "id": "144c3bb3b4e85d4d"
  },
  {
   "cell_type": "code",
   "execution_count": 116,
   "outputs": [],
   "source": [
    "# 定义训练函数\n",
    "def train(net, train_iter, loss_func, num_epochs, lr=None, optimizer=None):\n",
    "    train_loss_list = []\n",
    "    test_loss_list = []\n",
    "    for epoch in range(num_epochs):\n",
    "        train_1_sum, train_acc_sum, n, c = 0.0, 0.0, 0, 0\n",
    "        for X, y in train_iter:\n",
    "            y_hat = net(X)\n",
    "            loss = loss_func(y_hat, y)\n",
    "            optimizer.zero_grad()\n",
    "            loss.backward()\n",
    "            optimizer.step()\n",
    "            train_1_sum += loss.item()\n",
    "            train_acc_sum += (y_hat.argmax(dim=1) == y).sum().item()\n",
    "            n += y.shape[0]\n",
    "            c += 1\n",
    "        test_acc, test_loss = evaluate_accuracy(test_iter, net, loss_func)\n",
    "        train_loss_list.append(train_1_sum / c)\n",
    "        test_loss_list.append(test_loss)\n",
    "        print('epoch %d, train loss %.4f, test loss %.4f, train acc %.3f, test acc %.3f' % (epoch + 1, train_1_sum / c, test_loss, train_acc_sum / n, test_acc))\n",
    "    return train_loss_list, test_loss_list"
   ],
   "metadata": {
    "collapsed": false,
    "ExecuteTime": {
     "end_time": "2024-09-01T08:16:14.778884200Z",
     "start_time": "2024-09-01T08:16:14.760657400Z"
    }
   },
   "id": "d51746ef9767534b"
  },
  {
   "cell_type": "code",
   "execution_count": 117,
   "outputs": [
    {
     "name": "stdout",
     "output_type": "stream",
     "text": [
      "epoch 1, train loss 0.3560, test loss 0.3182, train acc 0.993, test acc 1.000\n",
      "epoch 2, train loss 0.3164, test loss 0.3153, train acc 1.000, test acc 1.000\n",
      "epoch 3, train loss 0.3148, test loss 0.3145, train acc 1.000, test acc 1.000\n",
      "epoch 4, train loss 0.3143, test loss 0.3141, train acc 1.000, test acc 1.000\n",
      "epoch 5, train loss 0.3140, test loss 0.3139, train acc 1.000, test acc 1.000\n",
      "epoch 6, train loss 0.3138, test loss 0.3138, train acc 1.000, test acc 1.000\n",
      "epoch 7, train loss 0.3137, test loss 0.3137, train acc 1.000, test acc 1.000\n",
      "epoch 8, train loss 0.3137, test loss 0.3136, train acc 1.000, test acc 1.000\n",
      "epoch 9, train loss 0.3136, test loss 0.3136, train acc 1.000, test acc 1.000\n",
      "epoch 10, train loss 0.3136, test loss 0.3135, train acc 1.000, test acc 1.000\n",
      "epoch 11, train loss 0.3135, test loss 0.3135, train acc 1.000, test acc 1.000\n",
      "epoch 12, train loss 0.3135, test loss 0.3135, train acc 1.000, test acc 1.000\n",
      "epoch 13, train loss 0.3135, test loss 0.3135, train acc 1.000, test acc 1.000\n",
      "epoch 14, train loss 0.3135, test loss 0.3135, train acc 1.000, test acc 1.000\n",
      "epoch 15, train loss 0.3134, test loss 0.3134, train acc 1.000, test acc 1.000\n",
      "epoch 16, train loss 0.3134, test loss 0.3134, train acc 1.000, test acc 1.000\n",
      "epoch 17, train loss 0.3134, test loss 0.3134, train acc 1.000, test acc 1.000\n",
      "epoch 18, train loss 0.3134, test loss 0.3134, train acc 1.000, test acc 1.000\n",
      "epoch 19, train loss 0.3134, test loss 0.3134, train acc 1.000, test acc 1.000\n",
      "epoch 20, train loss 0.3134, test loss 0.3134, train acc 1.000, test acc 1.000\n",
      "epoch 21, train loss 0.3134, test loss 0.3134, train acc 1.000, test acc 1.000\n",
      "epoch 22, train loss 0.3134, test loss 0.3134, train acc 1.000, test acc 1.000\n",
      "epoch 23, train loss 0.3134, test loss 0.3134, train acc 1.000, test acc 1.000\n",
      "epoch 24, train loss 0.3134, test loss 0.3134, train acc 1.000, test acc 1.000\n",
      "epoch 25, train loss 0.3134, test loss 0.3134, train acc 1.000, test acc 1.000\n",
      "epoch 26, train loss 0.3134, test loss 0.3134, train acc 1.000, test acc 1.000\n",
      "epoch 27, train loss 0.3134, test loss 0.3133, train acc 1.000, test acc 1.000\n",
      "epoch 28, train loss 0.3133, test loss 0.3133, train acc 1.000, test acc 1.000\n",
      "epoch 29, train loss 0.3133, test loss 0.3133, train acc 1.000, test acc 1.000\n",
      "epoch 30, train loss 0.3133, test loss 0.3133, train acc 1.000, test acc 1.000\n",
      "epoch 31, train loss 0.3133, test loss 0.3133, train acc 1.000, test acc 1.000\n",
      "epoch 32, train loss 0.3133, test loss 0.3133, train acc 1.000, test acc 1.000\n",
      "epoch 33, train loss 0.3133, test loss 0.3133, train acc 1.000, test acc 1.000\n",
      "epoch 34, train loss 0.3133, test loss 0.3133, train acc 1.000, test acc 1.000\n",
      "epoch 35, train loss 0.3133, test loss 0.3133, train acc 1.000, test acc 1.000\n",
      "epoch 36, train loss 0.3133, test loss 0.3133, train acc 1.000, test acc 1.000\n",
      "epoch 37, train loss 0.3133, test loss 0.3133, train acc 1.000, test acc 1.000\n",
      "epoch 38, train loss 0.3133, test loss 0.3133, train acc 1.000, test acc 1.000\n",
      "epoch 39, train loss 0.3133, test loss 0.3133, train acc 1.000, test acc 1.000\n",
      "epoch 40, train loss 0.3133, test loss 0.3133, train acc 1.000, test acc 1.000\n",
      "epoch 41, train loss 0.3133, test loss 0.3133, train acc 1.000, test acc 1.000\n",
      "epoch 42, train loss 0.3133, test loss 0.3133, train acc 1.000, test acc 1.000\n",
      "epoch 43, train loss 0.3133, test loss 0.3133, train acc 1.000, test acc 1.000\n",
      "epoch 44, train loss 0.3133, test loss 0.3133, train acc 1.000, test acc 1.000\n",
      "epoch 45, train loss 0.3133, test loss 0.3133, train acc 1.000, test acc 1.000\n",
      "epoch 46, train loss 0.3133, test loss 0.3133, train acc 1.000, test acc 1.000\n",
      "epoch 47, train loss 0.3133, test loss 0.3133, train acc 1.000, test acc 1.000\n",
      "epoch 48, train loss 0.3133, test loss 0.3133, train acc 1.000, test acc 1.000\n",
      "epoch 49, train loss 0.3133, test loss 0.3133, train acc 1.000, test acc 1.000\n",
      "epoch 50, train loss 0.3133, test loss 0.3133, train acc 1.000, test acc 1.000\n"
     ]
    },
    {
     "data": {
      "text/plain": "<Figure size 640x480 with 1 Axes>",
      "image/png": "[encoded data removed]"
     },
     "metadata": {},
     "output_type": "display_data"
    }
   ],
   "source": [
    "# 训练模型\n",
    "## 初始化模型\n",
    "net = Net()\n",
    "## 设置训练轮数\n",
    "num_epochs = 50\n",
    "## 设置学习率\n",
    "lr = 0.01\n",
    "## 指定优化器为PyTorch自带的随机梯度下降\n",
    "optimizer = torch.optim.SGD(net.parameters(), lr=lr)\n",
    "## 初始化损失函数\n",
    "loss = nn.CrossEntropyLoss()\n",
    "\n",
    "# 开始训练\n",
    "train_loss, test_loss = train(net, train_iter, loss, num_epochs, lr, optimizer)\n",
    "# 训练完成后绘制损失函数\n",
    "draw_loss(train_loss, test_loss)"
   ],
   "metadata": {
    "collapsed": false,
    "ExecuteTime": {
     "end_time": "2024-09-01T08:16:22.482150900Z",
     "start_time": "2024-09-01T08:16:15.047995500Z"
    }
   },
   "id": "617a3b9b17d2d481"
  },
  {
   "cell_type": "markdown",
   "source": [
    "3. 多分类任务"
   ],
   "metadata": {
    "collapsed": false
   },
   "id": "4e03d5645fbc51e"
  },
  {
   "cell_type": "code",
   "execution_count": 118,
   "outputs": [
    {
     "name": "stderr",
     "output_type": "stream",
     "text": [
      "C:\\Users\\Jemzh\\AppData\\Local\\Temp\\ipykernel_23172\\1706069175.py:6: UserWarning: To copy construct from a tensor, it is recommended to use sourceTensor.clone().detach() or sourceTensor.clone().detach().requires_grad_(True), rather than torch.tensor(sourceTensor).\n",
      "  self.X = torch.tensor(X, dtype=torch.float32)\n",
      "C:\\Users\\Jemzh\\AppData\\Local\\Temp\\ipykernel_23172\\1706069175.py:8: UserWarning: To copy construct from a tensor, it is recommended to use sourceTensor.clone().detach() or sourceTensor.clone().detach().requires_grad_(True), rather than torch.tensor(sourceTensor).\n",
      "  self.y = torch.tensor(y, dtype=torch.long)\n"
     ]
    }
   ],
   "source": [
    "# 准备数据\n",
    "train_data, test_data = get_MNIST_data()\n",
    "batch_size = 256\n",
    "\n",
    "train_dataset = MyDataset(train_data.data, train_data.targets, task_type='classification')\n",
    "test_dataset = MyDataset(test_data.data, test_data.targets, task_type='classification')\n",
    "\n",
    "train_iter = DataLoader(train_dataset, batch_size=batch_size, shuffle=True, num_workers=0)\n",
    "test_iter = DataLoader(test_dataset, batch_size=batch_size, shuffle=False, num_workers=0)"
   ],
   "metadata": {
    "collapsed": false,
    "ExecuteTime": {
     "end_time": "2024-09-01T08:16:26.588456700Z",
     "start_time": "2024-09-01T08:16:26.535398400Z"
    }
   },
   "id": "d8c394b0915210b8"
  },
  {
   "cell_type": "code",
   "execution_count": 122,
   "outputs": [],
   "source": [
    "# 定义模型\n",
    "class Net(nn.Module):\n",
    "    def __init__(self):\n",
    "        super(Net, self).__init__()\n",
    "        # 定义模型参数\n",
    "        num_inputs, num_outputs, num_hiddens = 784, 10, 256\n",
    "        \n",
    "        # 定义模型结构\n",
    "        self.input_layer = nn.Flatten()\n",
    "        self.hidden_layer = nn.Sequential(\n",
    "            nn.Linear(num_inputs, num_hiddens),\n",
    "            nn.ReLU()\n",
    "        )\n",
    "        self.output_layer = nn.Sequential(\n",
    "            nn.Linear(num_hiddens, num_outputs),\n",
    "            nn.Softmax(dim=1)\n",
    "        )\n",
    "        \n",
    "        # 初始化模型参数\n",
    "        for hidden_layer in self.hidden_layer.parameters():\n",
    "            nn.init.normal_(hidden_layer, mean=0, std=0.01)\n",
    "        for output_layer in self.output_layer.parameters():\n",
    "            nn.init.normal_(output_layer, mean=0, std=0.01)\n",
    "    \n",
    "    def forward(self, x):\n",
    "        x = self.input_layer(x)\n",
    "        x = self.hidden_layer(x)\n",
    "        x = self.output_layer(x)\n",
    "        return x"
   ],
   "metadata": {
    "collapsed": false,
    "ExecuteTime": {
     "end_time": "2024-09-01T08:21:29.426917200Z",
     "start_time": "2024-09-01T08:21:29.360205600Z"
    }
   },
   "id": "673ed6033b2da61f"
  },
  {
   "cell_type": "code",
   "execution_count": 123,
   "outputs": [],
   "source": [
    "# 定义训练函数\n",
    "def train(net, train_iter, loss_func, num_epochs, lr=None, optimizer=None):\n",
    "    train_loss_list = []\n",
    "    test_loss_list = []\n",
    "    for epoch in range(num_epochs):\n",
    "        train_1_sum, train_acc_sum, n, c = 0.0, 0.0, 0, 0\n",
    "        for X, y in train_iter:\n",
    "            y_hat = net(X)\n",
    "            loss = loss_func(y_hat, y)\n",
    "            optimizer.zero_grad()\n",
    "            loss.backward()\n",
    "            optimizer.step()\n",
    "            train_1_sum += loss.item()\n",
    "            train_acc_sum += (y_hat.argmax(dim=1) == y).sum().item()\n",
    "            n += y.shape[0]\n",
    "            c += 1\n",
    "        test_acc, test_loss = evaluate_accuracy(test_iter, net, loss_func)\n",
    "        train_loss_list.append(train_1_sum / c)\n",
    "        test_loss_list.append(test_loss)\n",
    "        print('epoch %d, train loss %.4f, test loss %.4f, train acc %.3f, test acc %.3f' % (epoch + 1, train_1_sum / c, test_loss, train_acc_sum / n, test_acc))\n",
    "    return train_loss_list, test_loss_list"
   ],
   "metadata": {
    "collapsed": false,
    "ExecuteTime": {
     "end_time": "2024-09-01T08:21:29.901429800Z",
     "start_time": "2024-09-01T08:21:29.891912600Z"
    }
   },
   "id": "375be0c7e1b4535b"
  },
  {
   "cell_type": "code",
   "execution_count": 125,
   "outputs": [
    {
     "name": "stdout",
     "output_type": "stream",
     "text": [
      "epoch 1, train loss 1.6283, test loss 1.5361, train acc 0.838, test acc 0.929\n",
      "epoch 2, train loss 1.5252, test loss 1.5164, train acc 0.941, test acc 0.948\n",
      "epoch 3, train loss 1.5095, test loss 1.5140, train acc 0.956, test acc 0.949\n",
      "epoch 4, train loss 1.5005, test loss 1.5022, train acc 0.965, test acc 0.962\n",
      "epoch 5, train loss 1.4946, test loss 1.5018, train acc 0.970, test acc 0.961\n",
      "epoch 6, train loss 1.4900, test loss 1.5020, train acc 0.974, test acc 0.962\n",
      "epoch 7, train loss 1.4867, test loss 1.4952, train acc 0.977, test acc 0.967\n",
      "epoch 8, train loss 1.4839, test loss 1.4947, train acc 0.980, test acc 0.968\n",
      "epoch 9, train loss 1.4819, test loss 1.4919, train acc 0.982, test acc 0.970\n",
      "epoch 10, train loss 1.4799, test loss 1.4898, train acc 0.984, test acc 0.973\n",
      "epoch 11, train loss 1.4787, test loss 1.4890, train acc 0.985, test acc 0.974\n",
      "epoch 12, train loss 1.4772, test loss 1.4879, train acc 0.986, test acc 0.975\n",
      "epoch 13, train loss 1.4762, test loss 1.4880, train acc 0.987, test acc 0.974\n",
      "epoch 14, train loss 1.4754, test loss 1.4869, train acc 0.988, test acc 0.975\n",
      "epoch 15, train loss 1.4744, test loss 1.4870, train acc 0.988, test acc 0.975\n",
      "epoch 16, train loss 1.4737, test loss 1.4867, train acc 0.989, test acc 0.975\n",
      "epoch 17, train loss 1.4731, test loss 1.4859, train acc 0.989, test acc 0.977\n",
      "epoch 18, train loss 1.4725, test loss 1.4861, train acc 0.990, test acc 0.977\n",
      "epoch 19, train loss 1.4720, test loss 1.4852, train acc 0.990, test acc 0.978\n",
      "epoch 20, train loss 1.4717, test loss 1.4847, train acc 0.991, test acc 0.978\n",
      "epoch 21, train loss 1.4712, test loss 1.4845, train acc 0.991, test acc 0.978\n",
      "epoch 22, train loss 1.4707, test loss 1.4863, train acc 0.991, test acc 0.977\n",
      "epoch 23, train loss 1.4705, test loss 1.4846, train acc 0.992, test acc 0.979\n",
      "epoch 24, train loss 1.4701, test loss 1.4840, train acc 0.992, test acc 0.979\n",
      "epoch 25, train loss 1.4699, test loss 1.4846, train acc 0.992, test acc 0.978\n",
      "epoch 26, train loss 1.4697, test loss 1.4839, train acc 0.992, test acc 0.979\n",
      "epoch 27, train loss 1.4695, test loss 1.4836, train acc 0.992, test acc 0.979\n",
      "epoch 28, train loss 1.4694, test loss 1.4833, train acc 0.992, test acc 0.979\n",
      "epoch 29, train loss 1.4692, test loss 1.4835, train acc 0.993, test acc 0.979\n",
      "epoch 30, train loss 1.4690, test loss 1.4831, train acc 0.993, test acc 0.980\n",
      "epoch 31, train loss 1.4689, test loss 1.4833, train acc 0.993, test acc 0.979\n",
      "epoch 32, train loss 1.4687, test loss 1.4836, train acc 0.993, test acc 0.979\n",
      "epoch 33, train loss 1.4686, test loss 1.4832, train acc 0.993, test acc 0.980\n",
      "epoch 34, train loss 1.4685, test loss 1.4830, train acc 0.993, test acc 0.980\n",
      "epoch 35, train loss 1.4685, test loss 1.4831, train acc 0.993, test acc 0.979\n",
      "epoch 36, train loss 1.4684, test loss 1.4826, train acc 0.993, test acc 0.980\n",
      "epoch 37, train loss 1.4682, test loss 1.4826, train acc 0.993, test acc 0.979\n",
      "epoch 38, train loss 1.4682, test loss 1.4827, train acc 0.993, test acc 0.979\n",
      "epoch 39, train loss 1.4681, test loss 1.4825, train acc 0.993, test acc 0.980\n",
      "epoch 40, train loss 1.4680, test loss 1.4825, train acc 0.993, test acc 0.979\n",
      "epoch 41, train loss 1.4680, test loss 1.4827, train acc 0.993, test acc 0.980\n",
      "epoch 42, train loss 1.4679, test loss 1.4825, train acc 0.994, test acc 0.980\n",
      "epoch 43, train loss 1.4679, test loss 1.4825, train acc 0.994, test acc 0.980\n",
      "epoch 44, train loss 1.4678, test loss 1.4827, train acc 0.994, test acc 0.979\n",
      "epoch 45, train loss 1.4678, test loss 1.4825, train acc 0.994, test acc 0.980\n",
      "epoch 46, train loss 1.4677, test loss 1.4825, train acc 0.994, test acc 0.980\n",
      "epoch 47, train loss 1.4677, test loss 1.4827, train acc 0.994, test acc 0.979\n",
      "epoch 48, train loss 1.4677, test loss 1.4825, train acc 0.994, test acc 0.979\n",
      "epoch 49, train loss 1.4676, test loss 1.4826, train acc 0.994, test acc 0.980\n",
      "epoch 50, train loss 1.4676, test loss 1.4824, train acc 0.994, test acc 0.979\n"
     ]
    },
    {
     "data": {
      "text/plain": "<Figure size 640x480 with 1 Axes>",
      "image/png": "[encoded data removed]"
     },
     "metadata": {},
     "output_type": "display_data"
    }
   ],
   "source": [
    "# 训练模型\n",
    "## 初始化模型\n",
    "net = Net()\n",
    "## 设置训练轮数\n",
    "num_epochs = 50\n",
    "## 设置学习率\n",
    "lr = 0.01\n",
    "## 指定优化器为PyTorch自带的随机梯度下降\n",
    "optimizer = torch.optim.SGD(net.parameters(), lr=lr)\n",
    "## 初始化损失函数\n",
    "loss = nn.CrossEntropyLoss()\n",
    "\n",
    "# 开始训练\n",
    "train_loss, test_loss = train(net, train_iter, loss, num_epochs, lr, optimizer)\n",
    "# 训练完成后绘制损失函数\n",
    "draw_loss(train_loss, test_loss)"
   ],
   "metadata": {
    "collapsed": false,
    "ExecuteTime": {
     "end_time": "2024-09-01T09:18:38.742523900Z",
     "start_time": "2024-09-01T09:18:01.021114500Z"
    }
   },
   "id": "b073b5342723c8f3"
  },
  {
   "cell_type": "code",
   "execution_count": null,
   "outputs": [],
   "source": [],
   "metadata": {
    "collapsed": false
   },
   "id": "c52a98d1b928f78f"
  }
 ],
 "metadata": {
  "kernelspec": {
   "display_name": "Python 3 (ipykernel)",
   "language": "python",
   "name": "python3"
  },
  "language_info": {
   "codemirror_mode": {
    "name": "ipython",
    "version": 3
   },
   "file_extension": ".py",
   "mimetype": "text/x-python",
   "name": "python",
   "nbconvert_exporter": "python",
   "pygments_lexer": "ipython3",
   "version": "3.9.18"
  }
 },
 "nbformat": 4,
 "nbformat_minor": 5
}
