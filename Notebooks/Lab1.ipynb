{
 "cells": [
  {
   "cell_type": "code",
   "execution_count": 1,
   "id": "initial_id",
   "metadata": {
    "collapsed": true,
    "ExecuteTime": {
     "end_time": "2024-09-03T09:59:25.372857600Z",
     "start_time": "2024-09-03T09:59:23.210637400Z"
    }
   },
   "outputs": [],
   "source": [
    "import numpy as np\n",
    "import torch\n",
    "import torchvision\n",
    "import torchvision.transforms as transforms"
   ]
  },
  {
   "cell_type": "markdown",
   "source": [
    "## 一、PyTorch基本操作考察"
   ],
   "metadata": {
    "collapsed": false
   },
   "id": "a2d2a0bd4356484"
  },
  {
   "cell_type": "markdown",
   "source": [
    "1. 用Tensor初始化一个1x3 的矩阵M和一个2x1的矩阵N，对两矩阵进行减法操作（要求实现三种不同的形式），给出结果并分析三种方式的不同（如果出现报错，分析报错的原因），同时需要指出在计算过程中发生了什么"
   ],
   "metadata": {
    "collapsed": false
   },
   "id": "11113ac6c7187b63"
  },
  {
   "cell_type": "code",
   "execution_count": null,
   "outputs": [],
   "source": [
    "M = torch.zeros((1, 3))\n",
    "N = torch.ones((2, 1))"
   ],
   "metadata": {
    "collapsed": false
   },
   "id": "18e635251c59de9c"
  },
  {
   "cell_type": "code",
   "execution_count": 2,
   "outputs": [
    {
     "data": {
      "text/plain": "tensor([[-1., -1., -1.],\n        [-1., -1., -1.]])"
     },
     "execution_count": 2,
     "metadata": {},
     "output_type": "execute_result"
    }
   ],
   "source": [
    "t = M - N\n",
    "t"
   ],
   "metadata": {
    "collapsed": false,
    "ExecuteTime": {
     "end_time": "2024-09-03T10:02:03.133024200Z",
     "start_time": "2024-09-03T10:02:03.101384400Z"
    }
   },
   "id": "1ef6d9643c5eb9e4"
  },
  {
   "cell_type": "code",
   "execution_count": 4,
   "outputs": [
    {
     "data": {
      "text/plain": "tensor([[-1., -1., -1.],\n        [-1., -1., -1.]])"
     },
     "execution_count": 4,
     "metadata": {},
     "output_type": "execute_result"
    }
   ],
   "source": [
    "t = torch.sub(M, N)\n",
    "t"
   ],
   "metadata": {
    "collapsed": false,
    "ExecuteTime": {
     "end_time": "2024-09-03T10:03:12.756886300Z",
     "start_time": "2024-09-03T10:03:12.739570800Z"
    }
   },
   "id": "874cd5440edb3f4c"
  },
  {
   "cell_type": "code",
   "execution_count": 6,
   "outputs": [
    {
     "data": {
      "text/plain": "tensor([[-1., -1., -1.],\n        [-1., -1., -1.]])"
     },
     "execution_count": 6,
     "metadata": {},
     "output_type": "execute_result"
    }
   ],
   "source": [
    "t = torch.add(M, -N)\n",
    "t"
   ],
   "metadata": {
    "collapsed": false,
    "ExecuteTime": {
     "end_time": "2024-09-03T10:04:48.800988500Z",
     "start_time": "2024-09-03T10:04:48.785335300Z"
    }
   },
   "id": "751d97a4cfa59e54"
  },
  {
   "cell_type": "markdown",
   "source": [
    "2. ①利用Tensor创建两个大小分别3x2 和4x2的随机数矩阵P和Q，要求服从均值为0，标准差0.01为的正态分布；②对第二步得到的矩阵Q进行形状变换得到Q的转置QT；③对上述得到的矩阵P和矩阵QT求矩阵相乘"
   ],
   "metadata": {
    "collapsed": false
   },
   "id": "4280ec51823dd77f"
  },
  {
   "cell_type": "code",
   "execution_count": 7,
   "outputs": [],
   "source": [
    "P = torch.zeros((3, 2))\n",
    "Q = torch.zeros((4, 2))\n",
    "\n",
    "P = torch.normal(P, 0.01)\n",
    "Q = torch.normal(Q, 0.01)"
   ],
   "metadata": {
    "collapsed": false,
    "ExecuteTime": {
     "end_time": "2024-09-03T10:08:14.606640900Z",
     "start_time": "2024-09-03T10:08:14.591019400Z"
    }
   },
   "id": "c698e330142f642b"
  },
  {
   "cell_type": "code",
   "execution_count": 8,
   "outputs": [
    {
     "data": {
      "text/plain": "tensor([[-0.0069, -0.0179],\n        [ 0.0086,  0.0057],\n        [-0.0082, -0.0004]])"
     },
     "execution_count": 8,
     "metadata": {},
     "output_type": "execute_result"
    }
   ],
   "source": [
    "P"
   ],
   "metadata": {
    "collapsed": false,
    "ExecuteTime": {
     "end_time": "2024-09-03T10:08:17.143585500Z",
     "start_time": "2024-09-03T10:08:17.127411900Z"
    }
   },
   "id": "6c06c569ed0e338f"
  },
  {
   "cell_type": "code",
   "execution_count": 9,
   "outputs": [
    {
     "data": {
      "text/plain": "tensor([[-0.0035, -0.0010],\n        [ 0.0042, -0.0114],\n        [-0.0040,  0.0021],\n        [-0.0039,  0.0024]])"
     },
     "execution_count": 9,
     "metadata": {},
     "output_type": "execute_result"
    }
   ],
   "source": [
    "Q"
   ],
   "metadata": {
    "collapsed": false,
    "ExecuteTime": {
     "end_time": "2024-09-03T10:08:18.653689700Z",
     "start_time": "2024-09-03T10:08:18.640183400Z"
    }
   },
   "id": "e96c553ba5de52be"
  },
  {
   "cell_type": "code",
   "execution_count": 12,
   "outputs": [
    {
     "data": {
      "text/plain": "tensor([[-0.0035,  0.0042, -0.0040, -0.0039],\n        [-0.0010, -0.0114,  0.0021,  0.0024]])"
     },
     "execution_count": 12,
     "metadata": {},
     "output_type": "execute_result"
    }
   ],
   "source": [
    "QT = Q.T\n",
    "QT"
   ],
   "metadata": {
    "collapsed": false,
    "ExecuteTime": {
     "end_time": "2024-09-03T10:08:58.066224Z",
     "start_time": "2024-09-03T10:08:58.050593100Z"
    }
   },
   "id": "c55d2b1c0f813474"
  },
  {
   "cell_type": "code",
   "execution_count": 13,
   "outputs": [
    {
     "data": {
      "text/plain": "tensor([[ 4.2152e-05,  1.7581e-04, -1.0506e-05, -1.6401e-05],\n        [-3.6047e-05, -2.9239e-05, -2.2230e-05, -1.9844e-05],\n        [ 2.9159e-05, -3.0390e-05,  3.1911e-05,  3.1166e-05]])"
     },
     "execution_count": 13,
     "metadata": {},
     "output_type": "execute_result"
    }
   ],
   "source": [
    "torch.mm(P, QT)"
   ],
   "metadata": {
    "collapsed": false,
    "ExecuteTime": {
     "end_time": "2024-09-03T10:09:20.294694400Z",
     "start_time": "2024-09-03T10:09:20.278484Z"
    }
   },
   "id": "73a447139a3c5506"
  },
  {
   "cell_type": "markdown",
   "source": [
    "3. 给定公式 $y_3 = y_1+y_2=x^2+x^3$，且$x=1$。利用学习所得到的Tensor的相关知识，求$y_3$对$x$的梯度。要求在计算过程中，在计算$x^3$时中断梯度的追踪，观察结果并进行原因分析"
   ],
   "metadata": {
    "collapsed": false
   },
   "id": "3c67a660ead20965"
  },
  {
   "cell_type": "code",
   "execution_count": 21,
   "outputs": [
    {
     "data": {
      "text/plain": "tensor(1., requires_grad=True)"
     },
     "execution_count": 21,
     "metadata": {},
     "output_type": "execute_result"
    }
   ],
   "source": [
    "x = torch.tensor(1.0, requires_grad=True)\n",
    "x"
   ],
   "metadata": {
    "collapsed": false,
    "ExecuteTime": {
     "end_time": "2024-09-03T10:15:31.815957500Z",
     "start_time": "2024-09-03T10:15:31.798882600Z"
    }
   },
   "id": "78d470f79e60ab8e"
  },
  {
   "cell_type": "code",
   "execution_count": 24,
   "outputs": [],
   "source": [
    "y1 = torch.pow(x, 2)\n",
    "y2 = torch.pow(x, 3)\n",
    "y3 = torch.add(y1, y2)"
   ],
   "metadata": {
    "collapsed": false,
    "ExecuteTime": {
     "end_time": "2024-09-03T10:16:15.295653100Z",
     "start_time": "2024-09-03T10:16:15.279731300Z"
    }
   },
   "id": "6c2104bf3732c1d6"
  },
  {
   "cell_type": "code",
   "execution_count": 27,
   "outputs": [],
   "source": [
    "y3.backward()"
   ],
   "metadata": {
    "collapsed": false,
    "ExecuteTime": {
     "end_time": "2024-09-03T10:17:01.117139800Z",
     "start_time": "2024-09-03T10:17:01.101497700Z"
    }
   },
   "id": "e0da2e0922c0e190"
  },
  {
   "cell_type": "code",
   "execution_count": 28,
   "outputs": [
    {
     "data": {
      "text/plain": "tensor(5.)"
     },
     "execution_count": 28,
     "metadata": {},
     "output_type": "execute_result"
    }
   ],
   "source": [
    "x.grad"
   ],
   "metadata": {
    "collapsed": false,
    "ExecuteTime": {
     "end_time": "2024-09-03T10:17:06.038359Z",
     "start_time": "2024-09-03T10:17:06.007036600Z"
    }
   },
   "id": "8be4fb1a7cdca415"
  },
  {
   "cell_type": "markdown",
   "source": [
    "若在计算 $x^3$ 时中断梯度的跟踪"
   ],
   "metadata": {
    "collapsed": false
   },
   "id": "e9c68a28dfcf2954"
  },
  {
   "cell_type": "code",
   "execution_count": 30,
   "outputs": [
    {
     "data": {
      "text/plain": "tensor(2.)"
     },
     "execution_count": 30,
     "metadata": {},
     "output_type": "execute_result"
    }
   ],
   "source": [
    "x = torch.tensor(1.0, requires_grad=True)\n",
    "y1 = torch.pow(x, 2)\n",
    "with torch.no_grad():\n",
    "    y2 = torch.pow(x, 3)\n",
    "y3 = torch.add(y1, y2)\n",
    "y3.backward()\n",
    "x.grad"
   ],
   "metadata": {
    "collapsed": false,
    "ExecuteTime": {
     "end_time": "2024-09-03T10:19:17.072949900Z",
     "start_time": "2024-09-03T10:19:17.057288900Z"
    }
   },
   "id": "c30f5afd8d4b27e9"
  },
  {
   "cell_type": "markdown",
   "source": [
    "原因是：\n",
    "![](assets/1-1.png)"
   ],
   "metadata": {
    "collapsed": false
   },
   "id": "bf7659fade11e968"
  },
  {
   "cell_type": "code",
   "execution_count": null,
   "outputs": [],
   "source": [],
   "metadata": {
    "collapsed": false
   },
   "id": "52384cc95a4ba6ac"
  }
 ],
 "metadata": {
  "kernelspec": {
   "display_name": "Python 3",
   "language": "python",
   "name": "python3"
  },
  "language_info": {
   "codemirror_mode": {
    "name": "ipython",
    "version": 2
   },
   "file_extension": ".py",
   "mimetype": "text/x-python",
   "name": "python",
   "nbconvert_exporter": "python",
   "pygments_lexer": "ipython2",
   "version": "2.7.6"
  }
 },
 "nbformat": 4,
 "nbformat_minor": 5
}
